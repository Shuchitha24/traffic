{
 "cells": [
  {
   "cell_type": "code",
   "execution_count": 11,
   "id": "140f4298",
   "metadata": {},
   "outputs": [
    {
     "name": "stdout",
     "output_type": "stream",
     "text": [
      "            Day      Date  CodedDay  Zone  Weather  Temperature  Traffic\n",
      "0     Wednesday  01-06-18         3     2       35           17        2\n",
      "1     Wednesday  01-06-18         3     3       36           16        3\n",
      "2     Wednesday  01-06-18         3     4       27           25        5\n",
      "3     Wednesday  01-06-18         3     5       23           23        3\n",
      "4     Wednesday  01-06-18         3     6       18           42        2\n",
      "...         ...       ...       ...   ...      ...          ...      ...\n",
      "1434     Friday  10-06-18         5   140       47           38        1\n",
      "1435     Friday  10-06-18         5   141       15            8        4\n",
      "1436     Friday  10-06-18         5   142       26           38        1\n",
      "1437     Friday  10-06-18         5   143       16           34        3\n",
      "1438     Friday  10-06-18         5   144       16           17        1\n",
      "\n",
      "[1439 rows x 7 columns]\n"
     ]
    }
   ],
   "source": [
    "import pandas as pd\n",
    "import numpy as np\n",
    "data=pd.read_csv(\"C:\\\\Users\\\\91814\\\\Downloads\\\\Data (1)\\\\Data\\\\dataset.csv\")\n",
    "print(data)"
   ]
  },
  {
   "cell_type": "code",
   "execution_count": 18,
   "id": "b5154a37",
   "metadata": {},
   "outputs": [
    {
     "name": "stdout",
     "output_type": "stream",
     "text": [
      "<class 'pandas.core.frame.DataFrame'>\n",
      "RangeIndex: 1439 entries, 0 to 1438\n",
      "Data columns (total 7 columns):\n",
      " #   Column       Non-Null Count  Dtype \n",
      "---  ------       --------------  ----- \n",
      " 0   Day          1439 non-null   object\n",
      " 1   Date         1439 non-null   object\n",
      " 2   CodedDay     1439 non-null   int64 \n",
      " 3   Zone         1439 non-null   int64 \n",
      " 4   Weather      1439 non-null   int64 \n",
      " 5   Temperature  1439 non-null   int64 \n",
      " 6   Traffic      1439 non-null   int64 \n",
      "dtypes: int64(5), object(2)\n",
      "memory usage: 78.8+ KB\n"
     ]
    }
   ],
   "source": [
    "data.info()"
   ]
  },
  {
   "cell_type": "code",
   "execution_count": 25,
   "id": "d699b5df",
   "metadata": {},
   "outputs": [
    {
     "data": {
      "text/html": [
       "<div>\n",
       "<style scoped>\n",
       "    .dataframe tbody tr th:only-of-type {\n",
       "        vertical-align: middle;\n",
       "    }\n",
       "\n",
       "    .dataframe tbody tr th {\n",
       "        vertical-align: top;\n",
       "    }\n",
       "\n",
       "    .dataframe thead th {\n",
       "        text-align: right;\n",
       "    }\n",
       "</style>\n",
       "<table border=\"1\" class=\"dataframe\">\n",
       "  <thead>\n",
       "    <tr style=\"text-align: right;\">\n",
       "      <th></th>\n",
       "      <th>Day</th>\n",
       "      <th>Date</th>\n",
       "      <th>CodedDay</th>\n",
       "      <th>Zone</th>\n",
       "      <th>Weather</th>\n",
       "      <th>Temperature</th>\n",
       "      <th>Traffic</th>\n",
       "    </tr>\n",
       "  </thead>\n",
       "  <tbody>\n",
       "    <tr>\n",
       "      <th>1429</th>\n",
       "      <td>0</td>\n",
       "      <td>9</td>\n",
       "      <td>5</td>\n",
       "      <td>135</td>\n",
       "      <td>18</td>\n",
       "      <td>25</td>\n",
       "      <td>4</td>\n",
       "    </tr>\n",
       "    <tr>\n",
       "      <th>1430</th>\n",
       "      <td>0</td>\n",
       "      <td>9</td>\n",
       "      <td>5</td>\n",
       "      <td>136</td>\n",
       "      <td>31</td>\n",
       "      <td>8</td>\n",
       "      <td>2</td>\n",
       "    </tr>\n",
       "    <tr>\n",
       "      <th>1431</th>\n",
       "      <td>0</td>\n",
       "      <td>9</td>\n",
       "      <td>5</td>\n",
       "      <td>137</td>\n",
       "      <td>13</td>\n",
       "      <td>11</td>\n",
       "      <td>4</td>\n",
       "    </tr>\n",
       "    <tr>\n",
       "      <th>1432</th>\n",
       "      <td>0</td>\n",
       "      <td>9</td>\n",
       "      <td>5</td>\n",
       "      <td>138</td>\n",
       "      <td>34</td>\n",
       "      <td>15</td>\n",
       "      <td>1</td>\n",
       "    </tr>\n",
       "    <tr>\n",
       "      <th>1433</th>\n",
       "      <td>0</td>\n",
       "      <td>9</td>\n",
       "      <td>5</td>\n",
       "      <td>139</td>\n",
       "      <td>5</td>\n",
       "      <td>43</td>\n",
       "      <td>4</td>\n",
       "    </tr>\n",
       "    <tr>\n",
       "      <th>1434</th>\n",
       "      <td>0</td>\n",
       "      <td>9</td>\n",
       "      <td>5</td>\n",
       "      <td>140</td>\n",
       "      <td>47</td>\n",
       "      <td>38</td>\n",
       "      <td>1</td>\n",
       "    </tr>\n",
       "    <tr>\n",
       "      <th>1435</th>\n",
       "      <td>0</td>\n",
       "      <td>9</td>\n",
       "      <td>5</td>\n",
       "      <td>141</td>\n",
       "      <td>15</td>\n",
       "      <td>8</td>\n",
       "      <td>4</td>\n",
       "    </tr>\n",
       "    <tr>\n",
       "      <th>1436</th>\n",
       "      <td>0</td>\n",
       "      <td>9</td>\n",
       "      <td>5</td>\n",
       "      <td>142</td>\n",
       "      <td>26</td>\n",
       "      <td>38</td>\n",
       "      <td>1</td>\n",
       "    </tr>\n",
       "    <tr>\n",
       "      <th>1437</th>\n",
       "      <td>0</td>\n",
       "      <td>9</td>\n",
       "      <td>5</td>\n",
       "      <td>143</td>\n",
       "      <td>16</td>\n",
       "      <td>34</td>\n",
       "      <td>3</td>\n",
       "    </tr>\n",
       "    <tr>\n",
       "      <th>1438</th>\n",
       "      <td>0</td>\n",
       "      <td>9</td>\n",
       "      <td>5</td>\n",
       "      <td>144</td>\n",
       "      <td>16</td>\n",
       "      <td>17</td>\n",
       "      <td>1</td>\n",
       "    </tr>\n",
       "  </tbody>\n",
       "</table>\n",
       "</div>"
      ],
      "text/plain": [
       "      Day  Date  CodedDay  Zone  Weather  Temperature  Traffic\n",
       "1429    0     9         5   135       18           25        4\n",
       "1430    0     9         5   136       31            8        2\n",
       "1431    0     9         5   137       13           11        4\n",
       "1432    0     9         5   138       34           15        1\n",
       "1433    0     9         5   139        5           43        4\n",
       "1434    0     9         5   140       47           38        1\n",
       "1435    0     9         5   141       15            8        4\n",
       "1436    0     9         5   142       26           38        1\n",
       "1437    0     9         5   143       16           34        3\n",
       "1438    0     9         5   144       16           17        1"
      ]
     },
     "execution_count": 25,
     "metadata": {},
     "output_type": "execute_result"
    }
   ],
   "source": [
    "from sklearn.preprocessing import LabelEncoder \n",
    "le = LabelEncoder() \n",
    "data['Date']= le.fit_transform(data['Date'])\n",
    "data['Day']= le.fit_transform(data['Day'])\n",
    "\n",
    "data.tail(10)"
   ]
  },
  {
   "cell_type": "code",
   "execution_count": 29,
   "id": "f7e568b3",
   "metadata": {
    "scrolled": true
   },
   "outputs": [
    {
     "name": "stdout",
     "output_type": "stream",
     "text": [
      "      Day  Date  CodedDay  Zone  Weather  Temperature\n",
      "0       6     0         3     2       35           17\n",
      "1       6     0         3     3       36           16\n",
      "2       6     0         3     4       27           25\n",
      "3       6     0         3     5       23           23\n",
      "4       6     0         3     6       18           42\n",
      "...   ...   ...       ...   ...      ...          ...\n",
      "1434    0     9         5   140       47           38\n",
      "1435    0     9         5   141       15            8\n",
      "1436    0     9         5   142       26           38\n",
      "1437    0     9         5   143       16           34\n",
      "1438    0     9         5   144       16           17\n",
      "\n",
      "[1439 rows x 6 columns]\n",
      "      Traffic\n",
      "0           2\n",
      "1           3\n",
      "2           5\n",
      "3           3\n",
      "4           2\n",
      "...       ...\n",
      "1434        1\n",
      "1435        4\n",
      "1436        1\n",
      "1437        3\n",
      "1438        1\n",
      "\n",
      "[1439 rows x 1 columns]\n"
     ]
    }
   ],
   "source": [
    "output=data.drop(['Day','Date','CodedDay','Zone','Weather','Temperature'],axis=1)\n",
    "inputs=data.drop(['Traffic'],axis=1)\n",
    "print(inputs)\n",
    "print(output)"
   ]
  },
  {
   "cell_type": "code",
   "execution_count": 108,
   "id": "af83a2c7",
   "metadata": {},
   "outputs": [
    {
     "name": "stdout",
     "output_type": "stream",
     "text": [
      "[3]\n",
      "accuracy: 47\n"
     ]
    },
    {
     "name": "stderr",
     "output_type": "stream",
     "text": [
      "C:\\ProgramData\\Anaconda3\\lib\\site-packages\\sklearn\\neighbors\\_classification.py:198: DataConversionWarning: A column-vector y was passed when a 1d array was expected. Please change the shape of y to (n_samples,), for example using ravel().\n",
      "  return self._fit(X, y)\n",
      "C:\\ProgramData\\Anaconda3\\lib\\site-packages\\sklearn\\base.py:450: UserWarning: X does not have valid feature names, but KNeighborsClassifier was fitted with feature names\n",
      "  warnings.warn(\n"
     ]
    }
   ],
   "source": [
    "import sklearn\n",
    "import math\n",
    "from sklearn.model_selection import train_test_split\n",
    "x_train,x_test,y_train,y_test=train_test_split(inputs,output,train_size=0.8)\n",
    "import sklearn\n",
    "from sklearn.neighbors import KNeighborsClassifier\n",
    "model=KNeighborsClassifier(n_neighbors=3)\n",
    "model.fit(x_train,y_train)\n",
    "y_pred=model.predict(x_test)\n",
    "from sklearn.metrics import confusion_matrix\n",
    "cm=confusion_matrix(y_test,y_pred)\n",
    "res=model.predict([[6,0,3,2,35,17]])\n",
    "print(res)\n",
    "acc=model.score(inputs,output)\n",
    "print(\"accuracy:\",math.ceil(acc*100))"
   ]
  },
  {
   "cell_type": "code",
   "execution_count": 40,
   "id": "45dc64e7",
   "metadata": {},
   "outputs": [
    {
     "name": "stdout",
     "output_type": "stream",
     "text": [
      "            Day      Date  CodedDay  Zone  Weather  Temperature  Traffic\n",
      "0     Wednesday  01-06-18         3     2       35           17        2\n",
      "1     Wednesday  01-06-18         3     3       36           16        3\n",
      "2     Wednesday  01-06-18         3     4       27           25        5\n",
      "3     Wednesday  01-06-18         3     5       23           23        3\n",
      "4     Wednesday  01-06-18         3     6       18           42        2\n",
      "...         ...       ...       ...   ...      ...          ...      ...\n",
      "1434     Friday  10-06-18         5   140       47           38        1\n",
      "1435     Friday  10-06-18         5   141       15            8        4\n",
      "1436     Friday  10-06-18         5   142       26           38        1\n",
      "1437     Friday  10-06-18         5   143       16           34        3\n",
      "1438     Friday  10-06-18         5   144       16           17        1\n",
      "\n",
      "[1439 rows x 7 columns]\n"
     ]
    }
   ],
   "source": [
    "import pandas as pd\n",
    "import numpy as np\n",
    "data=pd.read_csv(\"C:\\\\Users\\\\91814\\\\Downloads\\\\Data (1)\\\\Data\\\\dataset.csv\")\n",
    "print(data)"
   ]
  },
  {
   "cell_type": "code",
   "execution_count": 41,
   "id": "7d7778ba",
   "metadata": {},
   "outputs": [
    {
     "name": "stdout",
     "output_type": "stream",
     "text": [
      "<class 'pandas.core.frame.DataFrame'>\n",
      "RangeIndex: 1439 entries, 0 to 1438\n",
      "Data columns (total 7 columns):\n",
      " #   Column       Non-Null Count  Dtype \n",
      "---  ------       --------------  ----- \n",
      " 0   Day          1439 non-null   object\n",
      " 1   Date         1439 non-null   object\n",
      " 2   CodedDay     1439 non-null   int64 \n",
      " 3   Zone         1439 non-null   int64 \n",
      " 4   Weather      1439 non-null   int64 \n",
      " 5   Temperature  1439 non-null   int64 \n",
      " 6   Traffic      1439 non-null   int64 \n",
      "dtypes: int64(5), object(2)\n",
      "memory usage: 78.8+ KB\n",
      "None\n",
      "Day            0\n",
      "Date           0\n",
      "CodedDay       0\n",
      "Zone           0\n",
      "Weather        0\n",
      "Temperature    0\n",
      "Traffic        0\n",
      "dtype: int64\n"
     ]
    }
   ],
   "source": [
    "print(data.info())\n",
    "print(data.isnull().sum())\n"
   ]
  },
  {
   "cell_type": "code",
   "execution_count": 57,
   "id": "9887b80d",
   "metadata": {},
   "outputs": [
    {
     "name": "stdout",
     "output_type": "stream",
     "text": [
      "      Day  Date  CodedDay  Zone  Weather  Temperature  Traffic\n",
      "0       6     0         3     2       35           17        2\n",
      "1       6     0         3     3       36           16        3\n",
      "2       6     0         3     4       27           25        5\n",
      "3       6     0         3     5       23           23        3\n",
      "4       6     0         3     6       18           42        2\n",
      "...   ...   ...       ...   ...      ...          ...      ...\n",
      "1434    0     9         5   140       47           38        1\n",
      "1435    0     9         5   141       15            8        4\n",
      "1436    0     9         5   142       26           38        1\n",
      "1437    0     9         5   143       16           34        3\n",
      "1438    0     9         5   144       16           17        1\n",
      "\n",
      "[1439 rows x 7 columns]\n"
     ]
    }
   ],
   "source": [
    "from sklearn.preprocessing import LabelEncoder \n",
    "le = LabelEncoder() \n",
    "data['Date']= le.fit_transform(data['Date'])\n",
    "data['Day']= le.fit_transform(data['Day'])\n",
    "print(data)\n"
   ]
  },
  {
   "cell_type": "code",
   "execution_count": 58,
   "id": "57cab4ad",
   "metadata": {
    "scrolled": true
   },
   "outputs": [
    {
     "name": "stdout",
     "output_type": "stream",
     "text": [
      "      Day  Date  CodedDay  Zone  Weather  Temperature\n",
      "0       6     0         3     2       35           17\n",
      "1       6     0         3     3       36           16\n",
      "2       6     0         3     4       27           25\n",
      "3       6     0         3     5       23           23\n",
      "4       6     0         3     6       18           42\n",
      "...   ...   ...       ...   ...      ...          ...\n",
      "1434    0     9         5   140       47           38\n",
      "1435    0     9         5   141       15            8\n",
      "1436    0     9         5   142       26           38\n",
      "1437    0     9         5   143       16           34\n",
      "1438    0     9         5   144       16           17\n",
      "\n",
      "[1439 rows x 6 columns]\n",
      "      Traffic\n",
      "0           2\n",
      "1           3\n",
      "2           5\n",
      "3           3\n",
      "4           2\n",
      "...       ...\n",
      "1434        1\n",
      "1435        4\n",
      "1436        1\n",
      "1437        3\n",
      "1438        1\n",
      "\n",
      "[1439 rows x 1 columns]\n"
     ]
    }
   ],
   "source": [
    "output=data.drop(['Day','Date','CodedDay','Zone','Weather','Temperature'],axis=1)\n",
    "inputs=data.drop(['Traffic'],axis=1)\n",
    "print(inputs)\n",
    "print(output)"
   ]
  },
  {
   "cell_type": "code",
   "execution_count": 59,
   "id": "1e082361",
   "metadata": {
    "scrolled": true
   },
   "outputs": [
    {
     "name": "stdout",
     "output_type": "stream",
     "text": [
      "[[3.07872736]]\n"
     ]
    },
    {
     "name": "stderr",
     "output_type": "stream",
     "text": [
      "C:\\ProgramData\\Anaconda3\\lib\\site-packages\\sklearn\\base.py:450: UserWarning: X does not have valid feature names, but LinearRegression was fitted with feature names\n",
      "  warnings.warn(\n"
     ]
    }
   ],
   "source": [
    "import sklearn\n",
    "import math\n",
    "from sklearn import linear_model\n",
    "model=linear_model.LinearRegression()\n",
    "model.fit(inputs,output)\n",
    "res=model.predict([[6,0,3,2,35,17]])\n",
    "print(res)"
   ]
  },
  {
   "cell_type": "code",
   "execution_count": 70,
   "id": "b8c89109",
   "metadata": {
    "scrolled": true
   },
   "outputs": [
    {
     "name": "stdout",
     "output_type": "stream",
     "text": [
      "18.75\n"
     ]
    }
   ],
   "source": [
    "from sklearn.metrics import accuracy_score\n",
    "acc=accuracy_score(y_test,y_pred)*100\n",
    "print(acc)"
   ]
  },
  {
   "cell_type": "code",
   "execution_count": 64,
   "id": "254d6a8d",
   "metadata": {},
   "outputs": [
    {
     "name": "stderr",
     "output_type": "stream",
     "text": [
      "C:\\Users\\91814\\AppData\\Local\\Temp\\ipykernel_3412\\1625651544.py:14: DataConversionWarning: A column-vector y was passed when a 1d array was expected. Please change the shape of y to (n_samples,), for example using ravel().\n",
      "  regressor.fit(X_train,y_train)\n"
     ]
    },
    {
     "data": {
      "text/plain": [
       "RandomForestRegressor(n_estimators=300, random_state=0)"
      ]
     },
     "execution_count": 64,
     "metadata": {},
     "output_type": "execute_result"
    }
   ],
   "source": [
    "\n",
    "X = data.iloc[:, 2:6].values\n",
    "y = data.iloc[:, 6:7].values\n",
    "     \n",
    "from sklearn.model_selection import train_test_split\n",
    "X_train, X_test, y_train, y_test = train_test_split(X, y, test_size = 0.20, random_state = 0)\n",
    "\n",
    "from sklearn.preprocessing import StandardScaler\n",
    "sc_X = StandardScaler()\n",
    "X_train = sc_X.fit_transform(X_train)\n",
    "X_test = sc_X.fit_transform(X_test)\n",
    "\n",
    "from sklearn.ensemble import RandomForestRegressor\n",
    "regressor = RandomForestRegressor(n_estimators = 300, random_state = 0)\n",
    "regressor.fit(X_train,y_train)     "
   ]
  },
  {
   "cell_type": "code",
   "execution_count": 65,
   "id": "8d573a21",
   "metadata": {},
   "outputs": [
    {
     "name": "stdout",
     "output_type": "stream",
     "text": [
      "Error =  13.42 %\n",
      "Accuracy=  86.58 %\n"
     ]
    }
   ],
   "source": [
    "y_pred = regressor.predict(X_test)\n",
    "\n",
    "if(y_pred.all()<2.5):\n",
    "    y_pred=np.round(y_pred-0.5)\n",
    "else:\n",
    "    y_pred=np.round(y_pred+0.5)\n",
    "df1=(y_pred-y_test)/y_test\n",
    "df1=round(df1.mean()*100,2)\n",
    "print(\"Error = \",df1,\"%\") \n",
    "a=100-df1\n",
    "print(\"Accuracy= \",a,\"%\")    "
   ]
  },
  {
   "cell_type": "code",
   "execution_count": null,
   "id": "fe3a9121",
   "metadata": {},
   "outputs": [],
   "source": []
  }
 ],
 "metadata": {
  "kernelspec": {
   "display_name": "Python 3 (ipykernel)",
   "language": "python",
   "name": "python3"
  },
  "language_info": {
   "codemirror_mode": {
    "name": "ipython",
    "version": 3
   },
   "file_extension": ".py",
   "mimetype": "text/x-python",
   "name": "python",
   "nbconvert_exporter": "python",
   "pygments_lexer": "ipython3",
   "version": "3.9.12"
  }
 },
 "nbformat": 4,
 "nbformat_minor": 5
}
